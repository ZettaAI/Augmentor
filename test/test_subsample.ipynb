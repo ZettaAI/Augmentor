{
 "cells": [
  {
   "cell_type": "code",
   "execution_count": 27,
   "metadata": {},
   "outputs": [],
   "source": [
    "import augmentor\n",
    "import dataprovider3 as dp3\n",
    "import h5py\n",
    "import numpy as np\n",
    "import os"
   ]
  },
  {
   "cell_type": "markdown",
   "metadata": {},
   "source": [
    "## FIB-25 Validation Sample"
   ]
  },
  {
   "cell_type": "code",
   "execution_count": 28,
   "metadata": {},
   "outputs": [],
   "source": [
    "home = os.path.expanduser('~')\n",
    "fib25_path = os.path.join(home, 'Data_local/FIB-25/validation_sample')"
   ]
  },
  {
   "cell_type": "code",
   "execution_count": 29,
   "metadata": {},
   "outputs": [],
   "source": [
    "fpath = os.path.join(fib25_path, 'img.h5')\n",
    "with h5py.File(fpath, 'r') as f:\n",
    "    img = f['/main'][...]\n",
    "\n",
    "fpath = os.path.join(fib25_path, 'seg.h5')\n",
    "with h5py.File(fpath, 'r') as f:\n",
    "    seg = f['/main'][...]\n",
    "    \n",
    "fpath = os.path.join(fib25_path, 'msk.h5')\n",
    "with h5py.File(fpath, 'r') as f:\n",
    "    msk = f['/main'][...]"
   ]
  },
  {
   "cell_type": "code",
   "execution_count": 30,
   "metadata": {},
   "outputs": [],
   "source": [
    "img = (img/255.).astype(np.float32)"
   ]
  },
  {
   "cell_type": "code",
   "execution_count": 31,
   "metadata": {},
   "outputs": [],
   "source": [
    "# DataSet\n",
    "dset = dp3.Dataset()\n",
    "dset.add_data('img', img)\n",
    "dset.add_data('seg', seg)\n",
    "dset.add_mask('seg_mask', msk, loc=True)"
   ]
  },
  {
   "cell_type": "code",
   "execution_count": 32,
   "metadata": {},
   "outputs": [],
   "source": [
    "# DataProvider\n",
    "dims = (240,240,240)\n",
    "spec = {'img': dims, 'seg': dims, 'seg_mask': dims}\n",
    "dp = dp3.DataProvider(spec)\n",
    "dp.add_dataset(dset)\n",
    "dp.set_imgs(['img'])\n",
    "dp.set_segs(['seg'])"
   ]
  },
  {
   "cell_type": "code",
   "execution_count": 33,
   "metadata": {},
   "outputs": [
    {
     "name": "stdout",
     "output_type": "stream",
     "text": [
      "SubsampleLabels(factor=[4 1 1])\n"
     ]
    }
   ],
   "source": [
    "# Augmentor\n",
    "factor = (4,1,1)\n",
    "aug = augmentor.SubsampleLabels(factor=factor)\n",
    "print(aug)"
   ]
  },
  {
   "cell_type": "code",
   "execution_count": 34,
   "metadata": {},
   "outputs": [],
   "source": [
    "dp.set_augment(aug)"
   ]
  },
  {
   "cell_type": "code",
   "execution_count": 35,
   "metadata": {},
   "outputs": [],
   "source": [
    "sample = dp()"
   ]
  },
  {
   "cell_type": "code",
   "execution_count": 36,
   "metadata": {},
   "outputs": [
    {
     "data": {
      "text/plain": [
       "(1, 240, 240, 240)"
      ]
     },
     "execution_count": 36,
     "metadata": {},
     "output_type": "execute_result"
    }
   ],
   "source": [
    "sample['img'].shape"
   ]
  },
  {
   "cell_type": "code",
   "execution_count": 37,
   "metadata": {},
   "outputs": [
    {
     "data": {
      "text/plain": [
       "(1, 60, 240, 240)"
      ]
     },
     "execution_count": 37,
     "metadata": {},
     "output_type": "execute_result"
    }
   ],
   "source": [
    "sample['seg'].shape"
   ]
  },
  {
   "cell_type": "code",
   "execution_count": 38,
   "metadata": {},
   "outputs": [
    {
     "data": {
      "text/plain": [
       "(1, 60, 240, 240)"
      ]
     },
     "execution_count": 38,
     "metadata": {},
     "output_type": "execute_result"
    }
   ],
   "source": [
    "sample['seg_mask'].shape"
   ]
  },
  {
   "cell_type": "code",
   "execution_count": 39,
   "metadata": {},
   "outputs": [],
   "source": [
    "import napari\n",
    "\n",
    "simg = sample['img'][0::,2::4,0::1,0::1]*255\n",
    "sseg = sample['seg']\n",
    "smsk = sample['seg_mask']*255\n",
    "\n",
    "viewer = napari.view_image(simg.astype(np.uint8), name='image')\n",
    "viewer.add_labels(sseg, name='segmentation')\n",
    "viewer.add_image(smsk, name='mask')\n",
    "napari.run()"
   ]
  },
  {
   "cell_type": "code",
   "execution_count": null,
   "metadata": {},
   "outputs": [],
   "source": []
  }
 ],
 "metadata": {
  "kernelspec": {
   "display_name": "Python 3",
   "language": "python",
   "name": "python3"
  },
  "language_info": {
   "codemirror_mode": {
    "name": "ipython",
    "version": 3
   },
   "file_extension": ".py",
   "mimetype": "text/x-python",
   "name": "python",
   "nbconvert_exporter": "python",
   "pygments_lexer": "ipython3",
   "version": "3.8.5"
  }
 },
 "nbformat": 4,
 "nbformat_minor": 5
}
