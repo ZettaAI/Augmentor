{
 "cells": [
  {
   "cell_type": "code",
   "execution_count": 1,
   "id": "a0dd8839-3f88-45ab-8d2c-e24c00d956e4",
   "metadata": {},
   "outputs": [],
   "source": [
    "import augmentor\n",
    "import dataprovider3 as dp3\n",
    "import h5py\n",
    "import numpy as np\n",
    "import os"
   ]
  },
  {
   "cell_type": "markdown",
   "id": "2c2d0939-61bf-47d9-8eed-c4d0b7fb1062",
   "metadata": {},
   "source": [
    "## FIB-25 Validation Sample"
   ]
  },
  {
   "cell_type": "code",
   "execution_count": 2,
   "id": "121a1206-6163-4483-ab1e-ad9fd3957589",
   "metadata": {},
   "outputs": [],
   "source": [
    "home = os.path.expanduser('~')\n",
    "fib25_path = os.path.join(home, 'Data_local/FIB-25/validation_sample')"
   ]
  },
  {
   "cell_type": "code",
   "execution_count": 3,
   "id": "e4d7c1f0-f89d-41a5-b828-bcc6604350ba",
   "metadata": {},
   "outputs": [],
   "source": [
    "fpath = os.path.join(fib25_path, 'img.h5')\n",
    "with h5py.File(fpath, 'r') as f:\n",
    "    img = f['/main'][...]\n",
    "\n",
    "fpath = os.path.join(fib25_path, 'seg.h5')\n",
    "with h5py.File(fpath, 'r') as f:\n",
    "    seg = f['/main'][...]\n",
    "    \n",
    "fpath = os.path.join(fib25_path, 'msk.h5')\n",
    "with h5py.File(fpath, 'r') as f:\n",
    "    msk = f['/main'][...]"
   ]
  },
  {
   "cell_type": "code",
   "execution_count": 4,
   "id": "8f2870ee-bae8-41ae-bd65-f001a0c65be4",
   "metadata": {},
   "outputs": [],
   "source": [
    "img = (img/255.).astype(np.float32)"
   ]
  },
  {
   "cell_type": "code",
   "execution_count": 23,
   "id": "f2c5fce7-e9f0-45ed-ad63-b62f0b1e127d",
   "metadata": {},
   "outputs": [],
   "source": [
    "# DataSet\n",
    "dset = dp3.Dataset()\n",
    "dset.add_data('img', img)\n",
    "dset.add_data('seg', seg)\n",
    "dset.add_mask('seg_mask', msk, loc=True)"
   ]
  },
  {
   "cell_type": "code",
   "execution_count": 24,
   "id": "c6200375-bab9-46b7-bf5f-97b582eacfd9",
   "metadata": {},
   "outputs": [],
   "source": [
    "# DataProvider\n",
    "dims = (240,240,240)\n",
    "spec = {'img': dims, 'seg': dims, 'seg_mask': dims}\n",
    "dp = dp3.DataProvider(spec)\n",
    "dp.add_dataset(dset)\n",
    "dp.set_imgs(['img'])\n",
    "dp.set_segs(['seg'])"
   ]
  },
  {
   "cell_type": "code",
   "execution_count": 25,
   "id": "6a7fbcfe-6888-4fb6-9592-4ed12e4fff14",
   "metadata": {},
   "outputs": [
    {
     "name": "stdout",
     "output_type": "stream",
     "text": [
      "Subsample()\n"
     ]
    }
   ],
   "source": [
    "# Augmentor\n",
    "factor = (4,1,1)\n",
    "aug = augmentor.Subsample(factor=factor)\n",
    "print(aug)"
   ]
  },
  {
   "cell_type": "code",
   "execution_count": 26,
   "id": "31363127-0e85-4cb5-8fc4-9ccd2dd856d3",
   "metadata": {},
   "outputs": [],
   "source": [
    "dp.set_augment(aug)"
   ]
  },
  {
   "cell_type": "code",
   "execution_count": 27,
   "id": "eabc1012-0d3c-4dd6-8d8d-17eccb7bf728",
   "metadata": {},
   "outputs": [],
   "source": [
    "sample = dp()"
   ]
  },
  {
   "cell_type": "code",
   "execution_count": 28,
   "id": "bc285407-c35b-4a13-8945-298a71a9e7b8",
   "metadata": {},
   "outputs": [
    {
     "data": {
      "text/plain": [
       "(1, 240, 240, 240)"
      ]
     },
     "execution_count": 28,
     "metadata": {},
     "output_type": "execute_result"
    }
   ],
   "source": [
    "sample['img'].shape"
   ]
  },
  {
   "cell_type": "code",
   "execution_count": 29,
   "id": "7958622d-54e6-48e7-ae8a-1ae8557c2244",
   "metadata": {},
   "outputs": [
    {
     "data": {
      "text/plain": [
       "(1, 60, 240, 240)"
      ]
     },
     "execution_count": 29,
     "metadata": {},
     "output_type": "execute_result"
    }
   ],
   "source": [
    "sample['seg'].shape"
   ]
  },
  {
   "cell_type": "code",
   "execution_count": 30,
   "id": "be475928-7782-4c5a-a15c-ad3efbeb5092",
   "metadata": {},
   "outputs": [
    {
     "data": {
      "text/plain": [
       "(1, 60, 240, 240)"
      ]
     },
     "execution_count": 30,
     "metadata": {},
     "output_type": "execute_result"
    }
   ],
   "source": [
    "sample['seg_mask'].shape"
   ]
  },
  {
   "cell_type": "code",
   "execution_count": 36,
   "id": "2de9597b-c650-4e10-9cd7-c7f06cc29849",
   "metadata": {},
   "outputs": [],
   "source": [
    "import napari\n",
    "\n",
    "simg = sample['img'][0::,2::4,0::1,0::1]*255\n",
    "sseg = sample['seg']\n",
    "smsk = sample['seg_mask']*255\n",
    "\n",
    "viewer = napari.view_image(simg.astype(np.uint8), name='image')\n",
    "viewer.add_labels(sseg, name='segmentation')\n",
    "viewer.add_image(smsk, name='mask')\n",
    "napari.run()"
   ]
  },
  {
   "cell_type": "code",
   "execution_count": null,
   "id": "c8dca85a-3a69-414e-af25-210ec7653838",
   "metadata": {},
   "outputs": [],
   "source": []
  }
 ],
 "metadata": {
  "kernelspec": {
   "display_name": "Python 3",
   "language": "python",
   "name": "python3"
  },
  "language_info": {
   "codemirror_mode": {
    "name": "ipython",
    "version": 3
   },
   "file_extension": ".py",
   "mimetype": "text/x-python",
   "name": "python",
   "nbconvert_exporter": "python",
   "pygments_lexer": "ipython3",
   "version": "3.8.5"
  }
 },
 "nbformat": 4,
 "nbformat_minor": 5
}
