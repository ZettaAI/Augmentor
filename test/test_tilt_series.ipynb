{
 "cells": [
  {
   "cell_type": "code",
   "execution_count": 19,
   "metadata": {},
   "outputs": [],
   "source": [
    "import augmentor\n",
    "import dataprovider3 as dp3\n",
    "import h5py\n",
    "import numpy as np\n",
    "import os"
   ]
  },
  {
   "cell_type": "markdown",
   "metadata": {},
   "source": [
    "### FIB-25 Validation Sample"
   ]
  },
  {
   "cell_type": "code",
   "execution_count": 20,
   "metadata": {},
   "outputs": [],
   "source": [
    "home = os.path.expanduser('~')\n",
    "fib25_path = os.path.join(home, 'Data_local/FIB-25/validation_sample')"
   ]
  },
  {
   "cell_type": "code",
   "execution_count": 21,
   "metadata": {},
   "outputs": [],
   "source": [
    "fpath = os.path.join(fib25_path, 'img.h5')\n",
    "with h5py.File(fpath, 'r') as f:\n",
    "    img = f['/main'][...]\n",
    "\n",
    "fpath = os.path.join(fib25_path, 'seg.h5')\n",
    "with h5py.File(fpath, 'r') as f:\n",
    "    seg = f['/main'][...]\n",
    "    \n",
    "fpath = os.path.join(fib25_path, 'msk.h5')\n",
    "with h5py.File(fpath, 'r') as f:\n",
    "    msk = f['/main'][...]"
   ]
  },
  {
   "cell_type": "code",
   "execution_count": 22,
   "metadata": {},
   "outputs": [],
   "source": [
    "img = (img/255.).astype(np.float32)"
   ]
  },
  {
   "cell_type": "code",
   "execution_count": 23,
   "metadata": {},
   "outputs": [],
   "source": [
    "# DataSet\n",
    "dset = dp3.Dataset()\n",
    "dset.add_data('img', img)\n",
    "dset.add_data('seg', seg)\n",
    "dset.add_mask('seg_mask', msk, loc=True)"
   ]
  },
  {
   "cell_type": "code",
   "execution_count": 24,
   "metadata": {},
   "outputs": [],
   "source": [
    "# DataProvider\n",
    "dims = (240,240,240)\n",
    "spec = {'img': dims, 'seg': dims, 'seg_mask': dims}\n",
    "dp = dp3.DataProvider(spec)\n",
    "dp.add_dataset(dset)\n",
    "dp.set_imgs(['img'])\n",
    "dp.set_segs(['seg'])"
   ]
  },
  {
   "cell_type": "code",
   "execution_count": 25,
   "metadata": {},
   "outputs": [],
   "source": [
    "sample = dp()"
   ]
  },
  {
   "cell_type": "code",
   "execution_count": 26,
   "metadata": {},
   "outputs": [
    {
     "data": {
      "text/plain": [
       "(1, 240, 240, 240)"
      ]
     },
     "execution_count": 26,
     "metadata": {},
     "output_type": "execute_result"
    }
   ],
   "source": [
    "sample['img'].shape"
   ]
  },
  {
   "cell_type": "code",
   "execution_count": 27,
   "metadata": {},
   "outputs": [],
   "source": [
    "n = 12"
   ]
  },
  {
   "cell_type": "code",
   "execution_count": 28,
   "metadata": {},
   "outputs": [],
   "source": [
    "projections = []\n",
    "projections.append(augmentor.NormalView(n))\n",
    "projections.append(augmentor.TiltedView(n,  1, -1))\n",
    "projections.append(augmentor.TiltedView(n, -1, -1))\n",
    "projections.append(augmentor.TiltedView(n,  1, -2))\n",
    "projections.append(augmentor.TiltedView(n, -1, -2))"
   ]
  },
  {
   "cell_type": "code",
   "execution_count": 42,
   "metadata": {},
   "outputs": [
    {
     "name": "stdout",
     "output_type": "stream",
     "text": [
      "CPU times: user 101 ms, sys: 345 µs, total: 101 ms\n",
      "Wall time: 99.8 ms\n"
     ]
    }
   ],
   "source": [
    "%time results = [p(sample['img']) for p in projections]"
   ]
  },
  {
   "cell_type": "code",
   "execution_count": 44,
   "metadata": {},
   "outputs": [],
   "source": [
    "ts = np.concatenate(results, axis=0)"
   ]
  },
  {
   "cell_type": "code",
   "execution_count": 37,
   "metadata": {},
   "outputs": [],
   "source": [
    "import napari\n",
    "\n",
    "viewer = napari.view_image((ts*255).astype(np.uint8), name='image')\n",
    "napari.run()"
   ]
  },
  {
   "cell_type": "code",
   "execution_count": 45,
   "metadata": {},
   "outputs": [
    {
     "name": "stdout",
     "output_type": "stream",
     "text": [
      "CPU times: user 104 ms, sys: 3.83 ms, total: 108 ms\n",
      "Wall time: 107 ms\n"
     ]
    }
   ],
   "source": [
    "%time ts2 = augmentor.SimpleTiltSeries(n)(sample['img'])"
   ]
  },
  {
   "cell_type": "code",
   "execution_count": 46,
   "metadata": {},
   "outputs": [
    {
     "data": {
      "text/plain": [
       "True"
      ]
     },
     "execution_count": 46,
     "metadata": {},
     "output_type": "execute_result"
    }
   ],
   "source": [
    "np.array_equal(ts, ts2)"
   ]
  },
  {
   "cell_type": "code",
   "execution_count": 47,
   "metadata": {},
   "outputs": [
    {
     "name": "stdout",
     "output_type": "stream",
     "text": [
      "Compose(\n",
      "    SubsampleLabels(factor=[12  1  1])\n",
      "    TiltSeries(num_sections=12)\n",
      ")\n"
     ]
    }
   ],
   "source": [
    "# Augmentor\n",
    "aug = augmentor.Compose([\n",
    "    augmentor.SubsampleLabels(factor=(n,1,1)),\n",
    "    augmentor.TiltSeries(n)\n",
    "])\n",
    "print(aug)"
   ]
  },
  {
   "cell_type": "code",
   "execution_count": 48,
   "metadata": {},
   "outputs": [],
   "source": [
    "dp.set_augment(aug)"
   ]
  },
  {
   "cell_type": "code",
   "execution_count": 62,
   "metadata": {},
   "outputs": [],
   "source": [
    "sample = dp()\n",
    "if any(sample['seg_mask'] == 0):\n",
    "    viewer = napari.view_image((sample['img']*255).astype(np.uint8), name='image')\n",
    "    viewer.add_labels(sample['seg'], name='segmentation')\n",
    "    viewer.add_image(sample['seg_mask']*255, name='mask')\n",
    "    napari.run()"
   ]
  },
  {
   "cell_type": "code",
   "execution_count": null,
   "metadata": {},
   "outputs": [],
   "source": []
  }
 ],
 "metadata": {
  "kernelspec": {
   "display_name": "Python 3",
   "language": "python",
   "name": "python3"
  },
  "language_info": {
   "codemirror_mode": {
    "name": "ipython",
    "version": 3
   },
   "file_extension": ".py",
   "mimetype": "text/x-python",
   "name": "python",
   "nbconvert_exporter": "python",
   "pygments_lexer": "ipython3",
   "version": "3.8.5"
  }
 },
 "nbformat": 4,
 "nbformat_minor": 4
}
