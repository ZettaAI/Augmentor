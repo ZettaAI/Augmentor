{
 "cells": [
  {
   "cell_type": "code",
   "execution_count": 1,
   "metadata": {},
   "outputs": [],
   "source": [
    "import augmentor\n",
    "import dataprovider3 as dp3\n",
    "import h5py\n",
    "import numpy as np\n",
    "import os"
   ]
  },
  {
   "cell_type": "markdown",
   "metadata": {},
   "source": [
    "### FIB-25 Validation Sample"
   ]
  },
  {
   "cell_type": "code",
   "execution_count": 2,
   "metadata": {},
   "outputs": [],
   "source": [
    "home = os.path.expanduser('~')\n",
    "fib25_path = os.path.join(home, 'Data_local/FIB-25/validation_sample')"
   ]
  },
  {
   "cell_type": "code",
   "execution_count": 3,
   "metadata": {},
   "outputs": [],
   "source": [
    "fpath = os.path.join(fib25_path, 'img.h5')\n",
    "with h5py.File(fpath, 'r') as f:\n",
    "    img = f['/main'][...]\n",
    "\n",
    "fpath = os.path.join(fib25_path, 'seg.h5')\n",
    "with h5py.File(fpath, 'r') as f:\n",
    "    seg = f['/main'][...]\n",
    "    \n",
    "fpath = os.path.join(fib25_path, 'msk.h5')\n",
    "with h5py.File(fpath, 'r') as f:\n",
    "    msk = f['/main'][...]"
   ]
  },
  {
   "cell_type": "code",
   "execution_count": 4,
   "metadata": {},
   "outputs": [],
   "source": [
    "img = (img/255.).astype(np.float32)"
   ]
  },
  {
   "cell_type": "code",
   "execution_count": 5,
   "metadata": {},
   "outputs": [],
   "source": [
    "# DataSet\n",
    "dset = dp3.Dataset()\n",
    "dset.add_data('img', img)\n",
    "dset.add_data('seg', seg)\n",
    "dset.add_mask('seg_mask', msk, loc=True)"
   ]
  },
  {
   "cell_type": "code",
   "execution_count": 27,
   "metadata": {},
   "outputs": [],
   "source": [
    "# DataProvider\n",
    "dims = (240,240,240)\n",
    "spec = {'img': dims, 'seg': dims, 'seg_mask': dims}\n",
    "dp = dp3.DataProvider(spec)\n",
    "dp.add_dataset(dset)\n",
    "dp.set_imgs(['img'])\n",
    "dp.set_segs(['seg'])"
   ]
  },
  {
   "cell_type": "code",
   "execution_count": 28,
   "metadata": {},
   "outputs": [],
   "source": [
    "sample = dp()"
   ]
  },
  {
   "cell_type": "code",
   "execution_count": 29,
   "metadata": {},
   "outputs": [
    {
     "data": {
      "text/plain": [
       "(1, 240, 240, 240)"
      ]
     },
     "execution_count": 29,
     "metadata": {},
     "output_type": "execute_result"
    }
   ],
   "source": [
    "sample['img'].shape"
   ]
  },
  {
   "cell_type": "code",
   "execution_count": 30,
   "metadata": {},
   "outputs": [],
   "source": [
    "n = 12"
   ]
  },
  {
   "cell_type": "code",
   "execution_count": 31,
   "metadata": {},
   "outputs": [],
   "source": [
    "projections = []\n",
    "projections.append(augmentor.NormalView(n))\n",
    "projections.append(augmentor.TiltedView(n,  1, -1))\n",
    "projections.append(augmentor.TiltedView(n, -1, -1))\n",
    "projections.append(augmentor.TiltedView(n,  1, -2))\n",
    "projections.append(augmentor.TiltedView(n, -1, -2))"
   ]
  },
  {
   "cell_type": "code",
   "execution_count": 32,
   "metadata": {},
   "outputs": [
    {
     "name": "stdout",
     "output_type": "stream",
     "text": [
      "CPU times: user 5.75 ms, sys: 1.25 ms, total: 7 ms\n",
      "Wall time: 6.22 ms\n"
     ]
    }
   ],
   "source": [
    "%time p0 = projections[0](sample['img'])"
   ]
  },
  {
   "cell_type": "code",
   "execution_count": 33,
   "metadata": {},
   "outputs": [
    {
     "name": "stdout",
     "output_type": "stream",
     "text": [
      "CPU times: user 21.2 ms, sys: 4.61 ms, total: 25.8 ms\n",
      "Wall time: 24.8 ms\n"
     ]
    }
   ],
   "source": [
    "%time p1 = projections[1](sample['img'])"
   ]
  },
  {
   "cell_type": "code",
   "execution_count": 34,
   "metadata": {},
   "outputs": [
    {
     "name": "stdout",
     "output_type": "stream",
     "text": [
      "CPU times: user 26.9 ms, sys: 1.63 ms, total: 28.5 ms\n",
      "Wall time: 27.4 ms\n"
     ]
    }
   ],
   "source": [
    "%time p2 = projections[2](sample['img'])"
   ]
  },
  {
   "cell_type": "code",
   "execution_count": 35,
   "metadata": {},
   "outputs": [
    {
     "name": "stdout",
     "output_type": "stream",
     "text": [
      "CPU times: user 21.4 ms, sys: 630 µs, total: 22.1 ms\n",
      "Wall time: 21.1 ms\n"
     ]
    }
   ],
   "source": [
    "%time p3 = projections[3](sample['img'])"
   ]
  },
  {
   "cell_type": "code",
   "execution_count": 36,
   "metadata": {},
   "outputs": [
    {
     "name": "stdout",
     "output_type": "stream",
     "text": [
      "CPU times: user 22.8 ms, sys: 0 ns, total: 22.8 ms\n",
      "Wall time: 21.6 ms\n"
     ]
    }
   ],
   "source": [
    "%time p4 = projections[4](sample['img'])"
   ]
  },
  {
   "cell_type": "code",
   "execution_count": 37,
   "metadata": {},
   "outputs": [],
   "source": [
    "results = [p(sample['img']) for p in projections]"
   ]
  },
  {
   "cell_type": "code",
   "execution_count": 38,
   "metadata": {},
   "outputs": [
    {
     "name": "stdout",
     "output_type": "stream",
     "text": [
      "(1, 20, 240, 240)\n",
      "(1, 20, 240, 240)\n",
      "(1, 20, 240, 240)\n",
      "(1, 20, 240, 240)\n",
      "(1, 20, 240, 240)\n"
     ]
    }
   ],
   "source": [
    "for r in results:\n",
    "    print(r.shape)"
   ]
  },
  {
   "cell_type": "code",
   "execution_count": 44,
   "metadata": {},
   "outputs": [],
   "source": [
    "ts = np.concatenate(results, axis=0)"
   ]
  },
  {
   "cell_type": "code",
   "execution_count": 46,
   "metadata": {},
   "outputs": [],
   "source": [
    "import napari\n",
    "\n",
    "viewer = napari.view_image((ts*255).astype(np.uint8), name='image')\n",
    "napari.run()"
   ]
  },
  {
   "cell_type": "code",
   "execution_count": null,
   "metadata": {},
   "outputs": [],
   "source": []
  }
 ],
 "metadata": {
  "kernelspec": {
   "display_name": "Python 3",
   "language": "python",
   "name": "python3"
  },
  "language_info": {
   "codemirror_mode": {
    "name": "ipython",
    "version": 3
   },
   "file_extension": ".py",
   "mimetype": "text/x-python",
   "name": "python",
   "nbconvert_exporter": "python",
   "pygments_lexer": "ipython3",
   "version": "3.8.5"
  }
 },
 "nbformat": 4,
 "nbformat_minor": 4
}
